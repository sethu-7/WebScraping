{
  "cells": [
    {
      "cell_type": "markdown",
      "metadata": {
        "id": "view-in-github",
        "colab_type": "text"
      },
      "source": [
        "<a href=\"https://colab.research.google.com/github/sethu-7/WebScraping/blob/main/WebScraping.ipynb\" target=\"_parent\"><img src=\"https://colab.research.google.com/assets/colab-badge.svg\" alt=\"Open In Colab\"/></a>"
      ]
    },
    {
      "cell_type": "code",
      "execution_count": null,
      "metadata": {
        "colab": {
          "base_uri": "https://localhost:8080/"
        },
        "id": "8ZtMm1YCsXEk",
        "outputId": "6f7b50aa-3753-409a-976f-488af4d86f08"
      },
      "outputs": [
        {
          "name": "stdout",
          "output_type": "stream",
          "text": [
            "Collecting bs4\n",
            "  Downloading bs4-0.0.1.tar.gz (1.1 kB)\n",
            "  Preparing metadata (setup.py) ... \u001b[?25l\u001b[?25hdone\n",
            "Requirement already satisfied: beautifulsoup4 in /usr/local/lib/python3.10/dist-packages (from bs4) (4.11.2)\n",
            "Requirement already satisfied: soupsieve>1.2 in /usr/local/lib/python3.10/dist-packages (from beautifulsoup4->bs4) (2.5)\n",
            "Building wheels for collected packages: bs4\n",
            "  Building wheel for bs4 (setup.py) ... \u001b[?25l\u001b[?25hdone\n",
            "  Created wheel for bs4: filename=bs4-0.0.1-py3-none-any.whl size=1256 sha256=184f1ceeff93e082fea523e13ab1806932f2f13193a9909e6bb96fad66de3175\n",
            "  Stored in directory: /root/.cache/pip/wheels/25/42/45/b773edc52acb16cd2db4cf1a0b47117e2f69bb4eb300ed0e70\n",
            "Successfully built bs4\n",
            "Installing collected packages: bs4\n",
            "Successfully installed bs4-0.0.1\n"
          ]
        }
      ],
      "source": [
        "!pip install bs4"
      ]
    },
    {
      "cell_type": "code",
      "execution_count": null,
      "metadata": {
        "colab": {
          "base_uri": "https://localhost:8080/"
        },
        "id": "FVYgMMLPslgM",
        "outputId": "11141229-07bd-4279-fabf-d0ff4c53254c"
      },
      "outputs": [
        {
          "name": "stdout",
          "output_type": "stream",
          "text": [
            "Requirement already satisfied: requests in /usr/local/lib/python3.10/dist-packages (2.31.0)\n",
            "Requirement already satisfied: charset-normalizer<4,>=2 in /usr/local/lib/python3.10/dist-packages (from requests) (3.2.0)\n",
            "Requirement already satisfied: idna<4,>=2.5 in /usr/local/lib/python3.10/dist-packages (from requests) (3.4)\n",
            "Requirement already satisfied: urllib3<3,>=1.21.1 in /usr/local/lib/python3.10/dist-packages (from requests) (2.0.4)\n",
            "Requirement already satisfied: certifi>=2017.4.17 in /usr/local/lib/python3.10/dist-packages (from requests) (2023.7.22)\n"
          ]
        }
      ],
      "source": [
        "!pip install requests"
      ]
    },
    {
      "cell_type": "markdown",
      "metadata": {
        "id": "mu58ES4ssrmS"
      },
      "source": [
        "Getting Raw Data"
      ]
    },
    {
      "cell_type": "code",
      "execution_count": null,
      "metadata": {
        "id": "H-taZexmtFQ5"
      },
      "outputs": [],
      "source": [
        "import requests as rq\n",
        "from bs4 import BeautifulSoup\n",
        "\n",
        "r=rq.get(\"https://www.amazon.in/Sony-Bravia-inches-Google-KD-55X74K/product-reviews/B09WN26DG5/ref=cm_cr_dp_d_show_all_btm?ie=UTF8&reviewerType=all_reviews\")\n",
        "\n",
        "soup=BeautifulSoup(r.text,'html.parser')\n",
        "\n",
        "print(soup)"
      ]
    },
    {
      "cell_type": "code",
      "execution_count": null,
      "metadata": {
        "colab": {
          "base_uri": "https://localhost:8080/"
        },
        "id": "wdHrNioXt7o6",
        "outputId": "ec2791b0-cbc6-4565-cd8d-9fda54128e87"
      },
      "outputs": [
        {
          "name": "stdout",
          "output_type": "stream",
          "text": [
            "[]\n"
          ]
        }
      ],
      "source": [
        "str=\"\"\n",
        "cus=[]\n",
        "\n",
        "for i in soup.find_all(\"span\",class_=\"a-profile-name\"):\n",
        "  str=str+i.get_text()\n",
        "  cus.append(str)\n",
        "  str=\"\"\n",
        "\n",
        "print(cus)\n"
      ]
    },
    {
      "cell_type": "code",
      "execution_count": null,
      "metadata": {
        "colab": {
          "base_uri": "https://localhost:8080/"
        },
        "id": "cDK-hD-7x2D2",
        "outputId": "c05f0a8c-2285-4b9e-e8b6-72654febdab0"
      },
      "outputs": [
        {
          "data": {
            "text/plain": [
              "[]"
            ]
          },
          "execution_count": 49,
          "metadata": {},
          "output_type": "execute_result"
        }
      ],
      "source": [
        "name=[]\n",
        "for i in cus:\n",
        "  if i==\"It has good clarity and works well as it says.  It was beyond what I expected... It was well packed and arrived safely\":\n",
        "    continue\n",
        "  else:\n",
        "    name.append(i)\n",
        "\n",
        "name"
      ]
    },
    {
      "cell_type": "code",
      "execution_count": null,
      "metadata": {
        "colab": {
          "base_uri": "https://localhost:8080/"
        },
        "id": "s0JsWSyV0k_L",
        "outputId": "e73d8089-321b-4745-d8a3-a79932d226fc"
      },
      "outputs": [
        {
          "data": {
            "text/plain": [
              "array([], dtype=float64)"
            ]
          },
          "execution_count": 50,
          "metadata": {},
          "output_type": "execute_result"
        }
      ],
      "source": [
        "import numpy as np\n",
        "np.array(name)"
      ]
    },
    {
      "cell_type": "code",
      "execution_count": null,
      "metadata": {
        "colab": {
          "base_uri": "https://localhost:8080/"
        },
        "id": "USu-BQNz1NOI",
        "outputId": "fe0f88c5-7606-473b-a687-1b2f182b4984"
      },
      "outputs": [
        {
          "data": {
            "text/plain": [
              "array([], dtype=float64)"
            ]
          },
          "execution_count": 51,
          "metadata": {},
          "output_type": "execute_result"
        }
      ],
      "source": [
        "name=np.unique(name)\n",
        "name"
      ]
    },
    {
      "cell_type": "code",
      "execution_count": null,
      "metadata": {
        "colab": {
          "base_uri": "https://localhost:8080/"
        },
        "id": "QeBnZqqmu5NB",
        "outputId": "ae6edded-d638-4769-84b9-4e59e2765423"
      },
      "outputs": [
        {
          "name": "stdout",
          "output_type": "stream",
          "text": [
            "0\n"
          ]
        }
      ],
      "source": [
        "print(len(name))"
      ]
    },
    {
      "cell_type": "code",
      "execution_count": null,
      "metadata": {
        "colab": {
          "base_uri": "https://localhost:8080/"
        },
        "id": "qjfcPb0KvD7N",
        "outputId": "3bd23d95-56ed-4cfb-e4c4-6bef61d40426"
      },
      "outputs": [
        {
          "data": {
            "text/plain": [
              "[]"
            ]
          },
          "execution_count": 54,
          "metadata": {},
          "output_type": "execute_result"
        }
      ],
      "source": [
        "rev=[]\n",
        "str=\"\"\n",
        "\n",
        "for i in soup.find_all(\"span\",class_=\"a-size-base review-text review-text-content\"):\n",
        "  print(i)\n",
        "  str=str+i.get_text()\n",
        "\n",
        "result=str.split(\"\\n\")\n",
        "\n",
        "rev_res=[]\n",
        "for i in result:\n",
        "  if i==\"\":\n",
        "    pass\n",
        "  else:\n",
        "    rev_res.append(i)\n",
        "\n",
        "rev_res\n"
      ]
    },
    {
      "cell_type": "code",
      "execution_count": null,
      "metadata": {
        "colab": {
          "base_uri": "https://localhost:8080/"
        },
        "id": "5aBw1VjM0QBt",
        "outputId": "978cc446-edaf-418b-b587-a7cddd04fea6"
      },
      "outputs": [
        {
          "data": {
            "text/plain": [
              "list"
            ]
          },
          "execution_count": 55,
          "metadata": {},
          "output_type": "execute_result"
        }
      ],
      "source": [
        "type(result)"
      ]
    },
    {
      "cell_type": "code",
      "execution_count": null,
      "metadata": {
        "colab": {
          "base_uri": "https://localhost:8080/"
        },
        "id": "amK9-5y9xF8W",
        "outputId": "28be63a5-be3e-4ce4-bf4e-2c9bdfb5b1dd"
      },
      "outputs": [
        {
          "data": {
            "text/plain": [
              "0"
            ]
          },
          "execution_count": 56,
          "metadata": {},
          "output_type": "execute_result"
        }
      ],
      "source": [
        "len(rev_res)"
      ]
    },
    {
      "cell_type": "code",
      "execution_count": null,
      "metadata": {
        "id": "vWPvpuX44H6D"
      },
      "outputs": [],
      "source": [
        "import requests as rq\n",
        "from bs4 import BeautifulSoup\n",
        "from random import randint\n",
        "from time import sleep\n"
      ]
    },
    {
      "cell_type": "code",
      "execution_count": null,
      "metadata": {
        "id": "GL4tl_Qr4Cew"
      },
      "outputs": [],
      "source": []
    },
    {
      "cell_type": "code",
      "execution_count": null,
      "metadata": {
        "colab": {
          "background_save": true
        },
        "id": "t7D6G4COy0L7"
      },
      "outputs": [],
      "source": [
        "\n",
        "# str=\"\"\n",
        "\n",
        "# for i in soup.find_all(\"a\",class_=\"a-size-base a-link-normal review-title a-color-base review-title-content a-text-bold\"):\n",
        "#   for k in i.find_all(\"span\",class_=\"\"):\n",
        "#     str=str+k.get_text()\n",
        "#     head.append(str)\n",
        "#     str=\"\"\n",
        "\n",
        "# print(\"head\",head)\n",
        "\n",
        "rev=[]\n",
        "head=[]\n",
        "rev_res=[]\n",
        "result=[]\n",
        "\n",
        "header=({'User-Agent':'Mozilla/5.0 (Windows NT 10.0; Win64; x64) AppleWebKit/537.36 (KHTML, like Gecko) Chrome/116.0.0.0 Safari/537.36','Accept-Language': 'en-US, en;q=0.5'})\n",
        "\n",
        "url=\"https://www.amazon.in/Digital-Fortress-Dan-Brown/product-reviews/055216125X/ref=cm_cr_dp_d_show_all_btm?ie=UTF8&reviewerType=all_reviews\"\n",
        "for m in range(2,1000):\n",
        "\n",
        "  print(m)\n",
        "  r=rq.get(url,headers=header)\n",
        "  print(r)\n",
        "  soup=BeautifulSoup(r.text,'html.parser')\n",
        "\n",
        "  # print(soup)\n",
        "\n",
        "\n",
        "  str=\"\"\n",
        "  print(soup.find(\"span\",attrs={'class':'a-size-base review-text review-text-content'}))\n",
        "\n",
        "  for i in soup.find_all(\"span\",attrs={'class':'a-size-base review-text review-text-content'}):\n",
        "    print(i)\n",
        "    str=str+i.get_text()\n",
        "\n",
        "  result=str.split(\"\\n\")\n",
        "\n",
        "\n",
        "  for i in result:\n",
        "    if i==\"\":\n",
        "      pass\n",
        "    else:\n",
        "      rev_res.append(i)\n",
        "\n",
        "  print(rev_res)\n",
        "\n",
        "  print(url)\n",
        "  substring=url\n",
        "  rep=f'https://www.amazon.in/Digital-Fortress-Dan-Brown/product-reviews/055216125X/ref=cm_cr_getr_d_paging_btm_prev_{m}?ie=UTF8&reviewerType=all_reviews&pageNumber={m}'\n",
        "  url= url.replace(substring, rep)\n",
        "  # sleep(randint(2,10))\n",
        "  # if substring in url:\n",
        "    # print(modified_string)\n",
        "  # else:\n",
        "    # print(\"Substring not found in the original string.\")\n",
        "\n"
      ]
    },
    {
      "cell_type": "code",
      "execution_count": null,
      "metadata": {
        "colab": {
          "base_uri": "https://localhost:8080/"
        },
        "id": "wsqBvx8NHleW",
        "outputId": "74c49c00-7c4d-4329-ff59-88b1be6f1bdd"
      },
      "outputs": [
        {
          "data": {
            "text/plain": [
              "10"
            ]
          },
          "execution_count": 15,
          "metadata": {},
          "output_type": "execute_result"
        }
      ],
      "source": [
        "len(rev_res)"
      ]
    },
    {
      "cell_type": "code",
      "execution_count": null,
      "metadata": {
        "colab": {
          "base_uri": "https://localhost:8080/"
        },
        "id": "9tUFCS3GHoNc",
        "outputId": "755a1ca1-b37b-4a99-8b6a-37e4d33bcc82"
      },
      "outputs": [
        {
          "data": {
            "text/plain": [
              "['Dan Brown needs no introduction. At some point in our lives, I assume, we\\'ve all heard of him and some have even read him. I have read all his books and was most impressed by them all, despite all the 4 books of the Robert Langdon series being in the same plot design. Origin by Dan Brown is no different. The recipe? A setting featuring a full part Robert Langdon, half a part intellectually sexy lady (preferably more than a decade younger than him), full part country with a tumultuous past and lots of historical and modern architecture and art which allows numerous conspiracy theories around them, a scintillating murder of a renowned person who happened to be Langdon\\'s close friend/known, a delusional assassin following close on the heels of our symbologist and his lady with attempts to silence them as well, a shadowy master ordering the kills, some religious groups and their over-zealous members, jet setting across the country/countries, full part of the ever raging war between religion and science and their flag bearers fighting over a dark/shocking secret and finally, the big reveal...all of this in the span of one night. Phew! Having read Origin now, I am pretty convinced that Mr. Brown has some really cool ideas and some really obvious theories. It\\'s like a guilty pleasure, reading his books, you admit and you feel guilty, you don\\'t admit and you feel guiltier. I had decided not to read any more of his books unless I get good reviews about it or he deviates from his overdone plot design, but given my mild OCD, before it turned to a monster demanding the book to be read, I caved in.Langdon is in Spain, at the Bilbao Guggenheim museum for an event hosted by his student turned friend, the genius computer scientist Edmond Kirsch and the director of the museum, Ambra Vidal who is engaged to the future king of Spain. Kirsch\\'s guest list includes a variety of names, all of whom know him personally, including an exception, a not so important and out of place Admiral Luis Alvira. Needless to say, this unknown man kills Kirsch just before he was about to reveal a discovery so huge that it would have changed the way people looked at religion, both believers and non-believers alike. Now, running from the Royal guards because Ambra thinks her life is in danger, Langdon and she races against the killer and the police alike who are both after them, to silence them forever. With the motive of the killer quite clear yet his master still behind the curtains, Langdon and Ambra have every reason to doubt everyone who even remotely has any links to any religion.What was Kirsch\\'s big discovery for which he lost his life? How will Langdon and Ambra save it from getting lost forever with Kirsch dead and apparently no one else in the world who knows what it was about!?So, down goes the drain on my resolve of not reading any more of Robert Langdon\\'s stories. I just can\\'t stop myself! Having said this, I must also say that this is the book with which I can relate to more levels than any other of Mr. Brown\\'s works. Firstly, I believe I am an atheist. My entire life seems like a sham when I realized that humanity is above God. Didn\\'t I just spend my entire childhood praying to God for things I wanted and yet be mean to the ones less fortunate at times, or have mean thoughts at least!? No doubt I never got what I wanted because, duh, Karma! Secondly, like Mr. Brown, I too believe that an age of digital revolution like never before is just around the corner, a Digi-human or a humanoid or whatever one calls the people surviving it. And lastly, I believe that all religions are a sham. With their histories bloodier than the world wars (or so I feel because there is no end to \"My God is mightier than yours\") and no respite in sight even though we live in 2020 (I am not getting started on this topic, too vast and debatable), there is nothing as dark as the religions of the world today, twisted and presented to the masses only to fulfill the lusts of a handful of people. Now the question is, what did I like about this book apart from the above-mentioned similarities in thought. I liked the theory on which the whole story is based. The transition from the murdered to the criminal while hopping across the country\\'s finest artistic and historical places with an AI as a super sidekick got the ball rolling for me and pretty detailed insight for amateurs like me who know practically nothing about world history. Not that I would remember all of what was said, but at least I would be able to recollect where I read something and go back and research if it interested me further. What I disliked were the preposterous amount of information and preachy dialogues. I\\'d be better off with some more conspiracy theories. And also, the same plot design as all Langdon stories. This story, in particular, had some loopholes which I could pick immediately after the completion, a new one for me considering I haven\\'t been able to pinpoint any fault in other Langdon books. I wouldn\\'t tell them here because it would be like giving spoilers. I\\'d say this was because I\\'ve now read 5 of similar stories and readily anticipate what is about to happen long before it happens. Not to mention, I figured out the shadowy master and most of the details once things were moving fast enough. I appreciate how smoothly Mr. Brown amalgamated science, technology, and religion with art and history, a seamless piece of clothing that fits beautifully for everyone. The characters were plenty, some had crucial but short roles, some were just present for the sake of variety, I think, given the length of the book. Each character had depth irrespective of its requirement. A depth that I found boring and unnecessary at times like it was placed there only to increase the length and put the reader away from the main plotline. Having read some fast-paced thrillers before picking this book up, my judgment might be clouded, but I don\\'t think I am wrong in saying that Mr. Brown tends to stretch the story as far as he can and then some more before realizing that it\\'s time. Have you read the book? What are your views? Do leave a comment and let me know.',\n",
              " 'IN ONE OF HIS INTERVIEW\\'S DAN BROWN STATES THAT \"THE PROBLEM IN MAKING BOOKS INTO MOVIES IS THAT IMAGINATION\\xa0 BECOMES LIMITED. BEFORE THE HARRY POTTER MOVIES EVERY KID WHO READ IT HAD HIS OWN VERSION OF THE WIZARD HERO BUT AFTER THE MOVIES CAME OUT EVERY KID IMAGINED THE SAME DANIEL RADCLIFFE FACE. BOOKS NO LONGER REMAINED OPEN TO ONE\\'S IMAGINATION.\" I WOULD AGREE ,AS I STARTED IMAGINING TOM HANKS IN A SUIT WITHIN THE FIRST FEW PAGES OF DAN BROWN\\'S LATEST NOVEL ORIGIN. BUT THE OTHER CHARACTERS I COULD PICK AND CHOOSE FROM THE VAST ARRAY OF HOLLYWOOD\\'S ACTORS I LIKED. I COULD STILL IMAGINE THE NEXT PAGE\\'S HAPPENING OR VISUALISE HOW I WOULD REACT IF I WERE IN THE SCENE. HENCE DESPITE THE MOVIES , ONE\\'S IMAGINATION STILL RUNS FREE MR.BROWN!\\xa0AS AN ARDENT ADMIRER OF DAN BROWN\\'S WRITING MY SPIRITS WERE DAMPENED AFTER READING INFERNO BUT I STILL BOUGHT A COPY OF ORIGIN ON THE VERY DAY OF IT\\'S RELEASE HOPING FOR A MORE POSITIVE THEME.\\xa0 HAVING SEEN HIS INTERVIEW ON YOUTUBE I SOMEHOW SENSED THAT SHARJAH WOULD BE FEATURED IN THE BOOK AND IT WAS.\\xa0 ALSO I THOUGHT THAT THE RECURRENT QUESTION OF SCIENCE VERSUS GOD WOULD BE EXPLORED IN SOME NEW WAY ALONG WITH THE TIMELESS QUESTION WHERE DO WE COME FROM ? “Human creation and human destiny. They are the universal mysteries.”BUT THIS BOOK RUNS MUCH DEEPER.THE WASHINGTON POST , THE TELEGRAPH, THE GUARDIAN AND THE NEW YORK TIMES HAVE GIVEN VERY SCATHING REVIEWS TO THE BOOK BUT THE REAL REVIEW IS IN THE SALES FIGURES AND THE RECEPTION FROM THE MASSES IT IS AIMED AT. THE CRITICS EVEN NOTIFY TOM HANKS FOR HIS UPCOMING MOVIE SHOOTING IN SPAIN AND COMMENT ON THE BOOK\\'S FORMULA. THE REASON FOR A FORMULA BEING REPEATED BY SOMEONE IS THAT IT WORKS. IT IS A THRILLER SET IN A BEAUTIFUL COUNTRY  WITH GREAT HISTORICAL MONUMENTS EXPLORING EXISTENTIAL QUESTIONS. HISTORY +BEAUTIFUL ARCHITECTURE + SMART DAMSEL IN DISTRESS + SOLVING CODES + CONTROVERSIES + UNDERDOG GEEKY HERO OVERCOMING ALL OBSTACLES DESPITE CLAUSTROPHOBIA & THE WORLD AGAINST HIM ETC = MILLIONS OF BOOK COPIES SOLD ALONGWITH MOVIE RIGHTS.“In your world of classical art, pieces are revered for the artist’s skill of execution—that is, how deftly he places the brush to canvas or the chisel to stone. In modern art, however, masterpieces are often more about the idea than the execution.“ THIS INSIGHT FROM THE BOOK IS A VERY SIMPLE WAY TO EXPLAIN THE CONCEPT OF MODERN ART TO THOSE WHO ARE PERPLEXED BY IT. I liked the way he has approached modern art by making Bilbao museum the starting point for the story. The description of ideas behind modern art is a gateway for people who do not appreciate it perhaps and I for one have added the Guggenheim museum to my bucket list.ON MY PART, I AM FASCINATED BY THE HISTORICAL PERSPECTIVE OF MONUMENTS AND THE VARIED THEORIES DAN BROWN SHARES USING LANGDON HIS ALTER EGO PERHAPS.\\xa0I DO NOT MIND THE DESCRIPTIONS ABOUT CITIES AND MONUMENTS WHICH IS WHAT THE CRITICS ABHOR THE MOST IN HIS BOOKS. LEARNING ABOUT A PLACE DURING A STORY IS MORE INTERESTING THAN PICKINGUP A TRAVEL BOOK. I READ HIS BOOKS SLOWLY, SEEING VIDEOS AND PICTURES OF THE PLACES AND READING A BIT ABOUT THEM BEFORE MOVING ONTO THE NEXT MONUMENT. HE MOVES FROM MONUMENT TO MONUMENT AND CITY TO CITY SOLVING A PUZZLE. I AM AS A READER INTRIGUED BY THE PUZZLE AS MUCH AS BY THE ARTWORK AND PASSAGES OR POETRY SHARED DURING THE QUEST. Getting a fresh perspective about works of Nietzsche and William Blake as an interwoven part of the tale makes it DEEPER THAN A SIMPLE THRILLER.\\xa0DAN BROWN STEPS CAUTIOUSLY INTO ISLAM for a brief moment AND MOVES INTO THE Familiar territory of Christianity for the rest of the book. He shares the controversies of the Christian world in interesting\\xa0 plot twists.I like the manner in which he deals with religious fanaticism subtly and even provides a solution of sorts “that the human mind has the ability to elevate an obvious fiction to the status of a divine fact, and then feel emboldened to kill in its name. He believed that the universal truths of science could unite people—serving as a rallying point for future generations.” “That’s a beautiful idea in principle,which is why Edmond hoped science could one day unify us,” Langdon said. “In his own words: ‘If we all worshipped gravity...\"In making up artificial intelligence as a main character Dan Brown shows the contentious cusp between present and future possibilities.\\xa0To quote“ assess a machine’s ability to behave in a manner indistinguishable from that of a human“ makes it sound achievable. The concept of building intelligence that can be near human but not humane is intriguing and scary both. “the human brain is a binary system—synapses either fire or they don’t—they are on or off, like a computer switch. The brain has over a hundred trillion switches, which means that building a brain is not so much a question of technology as it is a question of scale.“ I WONDER IF THE FUTURISTIC UPGRADED ARTIFICIAL INTELLIGANCE WINSTON WHO PUTS SIRI TO SHAME IS BEING DEVELOPED SOMEWHERE.THE \"SMART DAMSEL IN DISTRESS SOLVING CODES\" THEME RECURRS HERE AND I WONDER HOW HIS NOVELS WOULD FARE IF THE FEMALE LEAD WOULD BE A MUCH OLDER MARRIED LADY OF GRANDMOTHERLY AGE OR MAY BE EVEN A MALE SCIENTIST? DESPITE THE PLATONIC FRIENDSHIP PORTRAYED, A RAVISHING FEMALE LEAD ADDS AN ELEMENT OF WOW DEFINITELY. THOUGH STATED AT A DIFFERENT POINT IN THE STORY ,AN AUTHOR HAS TO TAP INTO BASIC HUMAN TENDENCIES AT SOME POINT BECAUSE IN DAN BROWN\\'S OWN WORDS \"humans, despite being God’s most sublime creation, were still just animals at the core, their behavior driven to a great extent by a quest for creature comforts.\"  MOST READERS\\' ATTENTION WOULD BE DRAWN TO ATTRACTIVE FEMALE LEADS IN TROUBLE AND IN HIS NOVELS IT IS BEAUTY WITH BRAINS.THERE IS A TENDENCY TO INCLUDE INTERNATIONAL CHARACTERS TO GET WIDER AUDIENCE AND AN INTELLIGENCE OPERATIVE OF INDIAN ORIGIN MAKES AN APPEARANCE BUT I HOPE DAN BROWN  CHOOSES A BETTER INDIAN NAME NEXT TIME.I HAVE READ ALL OF DAN BROWN\\'S BOOKS AND MY RATINGS WERE THE HIGHEST FOR THE DIGITAL FORTRESS FOLLOWED BY DA VINCI CODE FOLLOWED BY ORIGIN FOLLOWED BY DECEPTION POINT FOLLOWED BY ANGELS AND DEMONS FOLLOWED BY THE LOST SYMBOL FOLLOWED BY INFERNO. I HATED THE NEGATIVE THEMED INFERNO THE MOST .\\xa0ALL IN ALL HIS RECENT BOOK\"ORIGIN\"  IS A PLEASANT READ AND I WOULD RATE THE PLOT AS 3.5/5  AND  THE WRITING AS 4/5 BECAUSE I LIKE TRAVEL AND MYSTERY BOTH AND DAN BROWN MARRIES THEM IN QUITE A DECENT NARRATIVE. I ALSO LIKED THE WAY I WAS FORCED TO THINK OF TECHNOLOGY IN THE FUTURE IN MYRIAD HUES AND NOT JUST AS AN AID TO HUMAN KIND.',\n",
              " 'Though the books takes you on a rollercoaster ride through history of Spain...conspiracies...and creation theories..somehow I felt thay Dan Brown is getting increasingly repititive.\\xa0Most of his books ..I have noted now ..after reading all of them ( I would like to call myself a fan) have a notable similarity of patterns.\\xa0I mean..the big event...a billionaire scientist..or head of secret society with history of hundreds of years..the conflict or crime..the result is of this conflict is a problem that has the capacity to shake the roots of some religion..or can destroy the world...a cold blooded hitman (who is obviously misguided by secret society head) murdering aroubd people and eventually follows langdon..and his quest to be saviour of world or religion or whatever.\\xa0The book builds up the secret like Dan Brown built it (alien life -planktons in DECEPTION POINT)...only to be released towards the end. You end up wondering for almost 80% of thr book what the hell are they looking..and your confusion matches with confusion of the characters as well.Much like this every novel has a cokd blooded misguided hitman..take it Da Vinci code...take Inferno ir take any other book.\\xa0And one thing is totally distateful is that in the ending the conflict..or the secret comes out tobe such a dud..like planktons...like technium. Apart from \"Angels and Demons\" where in the threat really sounded lethal. Rest in most of his books..it becomes anti climax wherein the gravity of the threat( which comes out to be dud) is compensated by philosophical mumbo jumbo.\\xa0Personally..I felt the discovery about the King of Spain and Valdespino having a secret love affair woukd have been more catastrophic for spain and religion rather than Technium.\\xa0Nevertheless...I loved Winston. ..the way I loved Camerlengo. But again the tendency to repeat the trend of portraying the most noble/ resourceful/ sober all through in the novel character ..as antagonist had been seen earlier as well.\\xa0The current book lacked the threat element..which was way better in Inferno and Angels and Demons and even in Da Vinci Code (upto an extent). It also lacked the emotional connect \"The lost symbol\"...the father son story. The female companion of Langdonin this novel has been the weakest ever...in comparison to earlier ones like Ms Vittoria Vetra or Ms Sophie Neveu.\\xa0The vivid description of buildings..arches..pathways..cities..could have been shortened..i hope they edit it appropriately in the movie adaptation.\\xa0But again..all said and done...it was entertaining in Dan Brown\\'s and Robert Langdon\\'s way. The narration ..the conversations..are informative and well researched...so credit does goes to Dan. He tests your brain ending the chapters at most cliffhanging sequences..which is teasing ..and irritating in the right mix..in a good way. The build up of Edmond discovery was good. ..but it was extended a lil too long\\xa0Overall...a good read for all history mystery ..codes...and conspiracy theories fans like me. However, I expect Dan to come up with really different one from his earlier work ..next time.Nevertheless...he still remains one of my fav Novelist..not because of Origins..but for \"Angels and Demons\" and \"Inferno\".\\xa0Pardon me of any typos or writing errors..this was written in one go..while I had a flight to catch. See ya..bye.',\n",
              " 'One of the best books I have ever read. It is a must read book for all.',\n",
              " \"Let me start this review by saying that I'm a hardcore Dan Brown fan. I know there are many people out there, who don't like his works. And I cannot believe that I'm giving a 3 star to a Dan Brown novel.1. Quality of the book - 5 starsThe hardcover version is well crafted. The binding quality is really good, the font size is perfect and it does look pretty good on your bookshelf. The Random House Publications has done a great job in printing quality of the book.2. The contentAll the books in the Robert Langdon series have many things in common.The SymbolismReference to Historical events and secret societiesAncient Art and CultureMicky Mouse WatchClaustrophobiaA rogue villainA female side character who accompanies LangdonThe list goes on. And I have no problem with this style. Though many people argue that there are many historical inaccuracies in his works, it still gives an amazing reading experience to the general audience. Dan Brown's narration of every single detail in the scene is quite amazing. His narration actually made me fell in love with Italy. He has a real knack for painting the whole picture in front of the reader to give the whole experience.Now coming back to Origin, the details are a total let down. Most of the times there are way too many unnecessary details which are total distractions for the reader. And his portrayal of Spain is not that great. Not just Spain, but the way he narrates all the art and minute details in the scene is, from a literature point of view, is simply mediocre and a complete letdown. Most of the times the narration deviates from the main plot and the whole thrill is just lost somewhere in-between.In Inferno, we've seen his take on the population explosion problem. The execution was a little off, maybe because of the previous one  Lost Symbol was such an amazing read. Now in Origin, its Dan Brown's take on Artificial Intelligence, the origin of human species and evolution in a different way. With the advancement of technology, we can actually understand these questions in a better way. Where do we come from? and Where are we going? The idea has such an amazing scope, but the execution was really disappointing. You can almost predict what's gonna happen next and the narration of all the details are like getting a drunk tour guide.To my surprise, there aren't many symbolism references and every character is easily forgettable. In a modern world like ours where the technological explosion is happening and Artificial Intelligence is creating a lot of hype, the real clash between religion and science has a lot of scope in a book, yet Dan Brown failed to deliver it properly, leaving you with a mediocre book with a lot of narrations that makes no sense.\",\n",
              " 'Good story',\n",
              " 'There is something special about the works of Dan Brown. One of the few authors whose works of fiction I devour with passion, Dan Brown has mastered the art of writing what I would call ‘encyclopedic thrillers’. Between those covers lie a huge trove of details about history, art, religion and science. Every time I finish reading a book by him, I end up adding at least 2-3 books to my to-read list. Such an awe-inspiring author he is. However, this book turns out to be one of his disappointing efforts.Edmond Kirsch is a billionaire computer scientist and futurist who has discovered something that could end up disturbing the deeply-seated religious beliefs. Robert Langdon, one of his trusted friends, gets invited to the event in Guggenheim museum for the announcement of that discovery. In front of the entire audience, Edmond gets brutally murdered before he could announce his discovery. Robert Langdon, having prominently figured in his pre-presentation video, and Ambra Vidal, the charming director of the museum, who worked closely with Edmond to prepare for the event, are both left to run for their dear lives. Chased by what appears to be the conspiracy to eliminate every loose end, Robert and Ambra race through the architectural and historical monuments of Spain to find out Edmond’s discovery and let it be known to the world. Did they succeed? This book answers the question.As I already said, Dan Brown is an author who weaves a lovely tapestry of tales, putting together facts from various faculties – science, history, art, architecture, religion and what-not! His ability to weave an intricate tale is never to be doubted. But somehow in this book, they are all starting to sound so routine and to some extent even hampering the flow. Brown seems to be settling into a pattern which is not good. What worked in Angels and Demons will not work always. Robert Langdon running for his dear life, trying to unravel the mysteries, accompanied by a female protagonist, giving us lessons on history and religion - it is all starting to sound so similar. Time to think of something different?Again, neither the story nor the ending are what used to set apart Dan’s works. If you’re a fan of Hollywood movies, who also happens to read widely about science and technology, you get to predict the antagonist and the climax well in advance – at about 200 pages itself. Once the suspense is gone, what remains is another 250-odd pages of dull and uninspiring reading. Either Dan Brown has become predictable or I have gathered the uncanny knack of Sherlock Holmes in seeing beyond the obvious. To avoid sounding so boastful, I guess it is the former that is the case.Routine, predictable and sluggish, this book reminds me of a work by Shakespeare – Much Ado About Nothing!',\n",
              " 'The book is great and keeps you fixed till you complete it. The turn towards the end was unbelievable. Great work',\n",
              " 'This is an updated review of Origin by Dan Brown.If you’ve read my previous post regarding this book (on the blog), you will know that after reading the first few chapters before publication, I was so excited! I am going to put this out there by saying that I have been a huge fan of Dan Brown’s books. I say with pride that I have read all his books but I don’t love them all.I can say that he is one of my one-click buy author. The moment I was done reading the excerpt, I knew I was going to love this book, I pre-ordered it, read it, didn’t review it, read it again this past week and my results are conclusive.Dan, What Happened?!I swear to all that’s holy, If I didn’t have any self control, I’d be bald by now. I kid you not, this book pissed me off. The thing I love most about Dan Brown’s books is that It gives me an opportunity to learn more about the history of the world. Origin, like almost all his books from this series teaches it’s readers about the history of Europe. Origin, is set in Spain and I can say without shame that I was engrossed into the story, my phone right next to me; Googling everything and anything is mentioned in the book; art, monuments, place of worship, symbols etc. I was loving this book. Key word- Loving. Somewhere along the way, I was losing interest but then again I thought to myself, “maybe it gets better.”, It did, sort of.So, You may ask why I didn’t enjoy this book? well, The first time I read it, I thought maybe I hyped it up too much in my head so this time, I read it without any preconceived notion; my opinion is still the same. What Did You Do?! That was THE MOST Anti-climactic end I have EVER Read! Did you give up half way? Did you lose inspiration? Everything was going fine, and you write that?!After I was done with the book, I literally went “My eyes! My eyes! I can’t believe I read this!”. Slightly dramatic but it proves my point. Hahaha!When people ask me if I love Dan Brown’s books, I say ” I enjoy reading his book but they have become predictable and slightly monotonous which makes it boring.” It’s the truth but deep down I say a silent prayer that my opinion will chance for The Da Vinci Code will still one of my favourites and Dan’s books really are a feast for the lover of history and art.',\n",
              " 'Mr Brown repeats his typical style of narration where announcing facts sometimes becomes heavier than the storytelling. But after almost two third pages he suddenly finds his rhythm and the end result is not far away from spectacular.']"
            ]
          },
          "execution_count": 17,
          "metadata": {},
          "output_type": "execute_result"
        }
      ],
      "source": [
        "rev_res"
      ]
    },
    {
      "cell_type": "code",
      "execution_count": null,
      "metadata": {
        "id": "ZndxDcHBFZSC"
      },
      "outputs": [],
      "source": [
        "# m=50\n",
        "# url=\"https://www.amazon.in/Sony-Bravia-inches-Google-KD-50X64L/product-reviews/B0C1HBDHK5/ref=cm_cr_getr_d_show_all?ie=UTF8&reviewerType=all_reviews&pageNumber=1\"\n",
        "# substring=url\n",
        "# rep=\"https://www.amazon.in/Sony-Bravia-inches-Google-KD-50X64L/product-reviews/B0C1HBDHK5/ref=cm_cr_getr_d_paging_btm_prev_\"+chr(m)+\"?ie=UTF8&reviewerType=all_reviews&pageNumber=\"+chr(m)\n",
        "# url= url.replace(substring, rep)\n",
        "# print(url)"
      ]
    },
    {
      "cell_type": "code",
      "execution_count": null,
      "metadata": {
        "id": "924coXcqxmVM"
      },
      "outputs": [],
      "source": [
        "# import pandas as pd\n",
        "\n",
        "# data={'review':rev_res}\n",
        "\n",
        "# df=pd.DataFrame(data)\n",
        "\n",
        "# df.to_csv('amozon_review_scrape_final.csv')"
      ]
    },
    {
      "cell_type": "code",
      "execution_count": null,
      "metadata": {
        "id": "HhMJElzRKG_6"
      },
      "outputs": [],
      "source": [
        "import pandas as pd"
      ]
    },
    {
      "cell_type": "code",
      "execution_count": null,
      "metadata": {
        "id": "jGfelum2zAO1"
      },
      "outputs": [],
      "source": [
        "fin={'review':rev_res}\n",
        "fin=pd.DataFrame(fin)\n",
        "fin.to_csv(\"/content/drive/MyDrive/honors/amozon_review_scrape_final.csv\",mode='a')"
      ]
    },
    {
      "cell_type": "code",
      "execution_count": null,
      "metadata": {
        "colab": {
          "base_uri": "https://localhost:8080/",
          "height": 363
        },
        "id": "NUciMCZ2zsvE",
        "outputId": "c7d2d58e-e460-415f-d7a3-aa867f30a629"
      },
      "outputs": [
        {
          "data": {
            "text/html": [
              "\n",
              "  <div id=\"df-7eeb9dd5-67d2-42f2-b749-1c17d1f480bd\" class=\"colab-df-container\">\n",
              "    <div>\n",
              "<style scoped>\n",
              "    .dataframe tbody tr th:only-of-type {\n",
              "        vertical-align: middle;\n",
              "    }\n",
              "\n",
              "    .dataframe tbody tr th {\n",
              "        vertical-align: top;\n",
              "    }\n",
              "\n",
              "    .dataframe thead th {\n",
              "        text-align: right;\n",
              "    }\n",
              "</style>\n",
              "<table border=\"1\" class=\"dataframe\">\n",
              "  <thead>\n",
              "    <tr style=\"text-align: right;\">\n",
              "      <th></th>\n",
              "      <th>review</th>\n",
              "    </tr>\n",
              "  </thead>\n",
              "  <tbody>\n",
              "    <tr>\n",
              "      <th>0</th>\n",
              "      <td>Dan Brown needs no introduction. At some point...</td>\n",
              "    </tr>\n",
              "    <tr>\n",
              "      <th>1</th>\n",
              "      <td>IN ONE OF HIS INTERVIEW'S DAN BROWN STATES THA...</td>\n",
              "    </tr>\n",
              "    <tr>\n",
              "      <th>2</th>\n",
              "      <td>Though the books takes you on a rollercoaster ...</td>\n",
              "    </tr>\n",
              "    <tr>\n",
              "      <th>3</th>\n",
              "      <td>One of the best books I have ever read. It is ...</td>\n",
              "    </tr>\n",
              "    <tr>\n",
              "      <th>4</th>\n",
              "      <td>Let me start this review by saying that I'm a ...</td>\n",
              "    </tr>\n",
              "    <tr>\n",
              "      <th>5</th>\n",
              "      <td>Good story</td>\n",
              "    </tr>\n",
              "    <tr>\n",
              "      <th>6</th>\n",
              "      <td>There is something special about the works of ...</td>\n",
              "    </tr>\n",
              "    <tr>\n",
              "      <th>7</th>\n",
              "      <td>The book is great and keeps you fixed till you...</td>\n",
              "    </tr>\n",
              "    <tr>\n",
              "      <th>8</th>\n",
              "      <td>This is an updated review of Origin by Dan Bro...</td>\n",
              "    </tr>\n",
              "    <tr>\n",
              "      <th>9</th>\n",
              "      <td>Mr Brown repeats his typical style of narratio...</td>\n",
              "    </tr>\n",
              "  </tbody>\n",
              "</table>\n",
              "</div>\n",
              "    <div class=\"colab-df-buttons\">\n",
              "\n",
              "  <div class=\"colab-df-container\">\n",
              "    <button class=\"colab-df-convert\" onclick=\"convertToInteractive('df-7eeb9dd5-67d2-42f2-b749-1c17d1f480bd')\"\n",
              "            title=\"Convert this dataframe to an interactive table.\"\n",
              "            style=\"display:none;\">\n",
              "\n",
              "  <svg xmlns=\"http://www.w3.org/2000/svg\" height=\"24px\" viewBox=\"0 -960 960 960\">\n",
              "    <path d=\"M120-120v-720h720v720H120Zm60-500h600v-160H180v160Zm220 220h160v-160H400v160Zm0 220h160v-160H400v160ZM180-400h160v-160H180v160Zm440 0h160v-160H620v160ZM180-180h160v-160H180v160Zm440 0h160v-160H620v160Z\"/>\n",
              "  </svg>\n",
              "    </button>\n",
              "\n",
              "  <style>\n",
              "    .colab-df-container {\n",
              "      display:flex;\n",
              "      gap: 12px;\n",
              "    }\n",
              "\n",
              "    .colab-df-convert {\n",
              "      background-color: #E8F0FE;\n",
              "      border: none;\n",
              "      border-radius: 50%;\n",
              "      cursor: pointer;\n",
              "      display: none;\n",
              "      fill: #1967D2;\n",
              "      height: 32px;\n",
              "      padding: 0 0 0 0;\n",
              "      width: 32px;\n",
              "    }\n",
              "\n",
              "    .colab-df-convert:hover {\n",
              "      background-color: #E2EBFA;\n",
              "      box-shadow: 0px 1px 2px rgba(60, 64, 67, 0.3), 0px 1px 3px 1px rgba(60, 64, 67, 0.15);\n",
              "      fill: #174EA6;\n",
              "    }\n",
              "\n",
              "    .colab-df-buttons div {\n",
              "      margin-bottom: 4px;\n",
              "    }\n",
              "\n",
              "    [theme=dark] .colab-df-convert {\n",
              "      background-color: #3B4455;\n",
              "      fill: #D2E3FC;\n",
              "    }\n",
              "\n",
              "    [theme=dark] .colab-df-convert:hover {\n",
              "      background-color: #434B5C;\n",
              "      box-shadow: 0px 1px 3px 1px rgba(0, 0, 0, 0.15);\n",
              "      filter: drop-shadow(0px 1px 2px rgba(0, 0, 0, 0.3));\n",
              "      fill: #FFFFFF;\n",
              "    }\n",
              "  </style>\n",
              "\n",
              "    <script>\n",
              "      const buttonEl =\n",
              "        document.querySelector('#df-7eeb9dd5-67d2-42f2-b749-1c17d1f480bd button.colab-df-convert');\n",
              "      buttonEl.style.display =\n",
              "        google.colab.kernel.accessAllowed ? 'block' : 'none';\n",
              "\n",
              "      async function convertToInteractive(key) {\n",
              "        const element = document.querySelector('#df-7eeb9dd5-67d2-42f2-b749-1c17d1f480bd');\n",
              "        const dataTable =\n",
              "          await google.colab.kernel.invokeFunction('convertToInteractive',\n",
              "                                                    [key], {});\n",
              "        if (!dataTable) return;\n",
              "\n",
              "        const docLinkHtml = 'Like what you see? Visit the ' +\n",
              "          '<a target=\"_blank\" href=https://colab.research.google.com/notebooks/data_table.ipynb>data table notebook</a>'\n",
              "          + ' to learn more about interactive tables.';\n",
              "        element.innerHTML = '';\n",
              "        dataTable['output_type'] = 'display_data';\n",
              "        await google.colab.output.renderOutput(dataTable, element);\n",
              "        const docLink = document.createElement('div');\n",
              "        docLink.innerHTML = docLinkHtml;\n",
              "        element.appendChild(docLink);\n",
              "      }\n",
              "    </script>\n",
              "  </div>\n",
              "\n",
              "\n",
              "<div id=\"df-94a15c29-7bd0-44b9-bac1-fe429130a8d3\">\n",
              "  <button class=\"colab-df-quickchart\" onclick=\"quickchart('df-94a15c29-7bd0-44b9-bac1-fe429130a8d3')\"\n",
              "            title=\"Suggest charts.\"\n",
              "            style=\"display:none;\">\n",
              "\n",
              "<svg xmlns=\"http://www.w3.org/2000/svg\" height=\"24px\"viewBox=\"0 0 24 24\"\n",
              "     width=\"24px\">\n",
              "    <g>\n",
              "        <path d=\"M19 3H5c-1.1 0-2 .9-2 2v14c0 1.1.9 2 2 2h14c1.1 0 2-.9 2-2V5c0-1.1-.9-2-2-2zM9 17H7v-7h2v7zm4 0h-2V7h2v10zm4 0h-2v-4h2v4z\"/>\n",
              "    </g>\n",
              "</svg>\n",
              "  </button>\n",
              "\n",
              "<style>\n",
              "  .colab-df-quickchart {\n",
              "      --bg-color: #E8F0FE;\n",
              "      --fill-color: #1967D2;\n",
              "      --hover-bg-color: #E2EBFA;\n",
              "      --hover-fill-color: #174EA6;\n",
              "      --disabled-fill-color: #AAA;\n",
              "      --disabled-bg-color: #DDD;\n",
              "  }\n",
              "\n",
              "  [theme=dark] .colab-df-quickchart {\n",
              "      --bg-color: #3B4455;\n",
              "      --fill-color: #D2E3FC;\n",
              "      --hover-bg-color: #434B5C;\n",
              "      --hover-fill-color: #FFFFFF;\n",
              "      --disabled-bg-color: #3B4455;\n",
              "      --disabled-fill-color: #666;\n",
              "  }\n",
              "\n",
              "  .colab-df-quickchart {\n",
              "    background-color: var(--bg-color);\n",
              "    border: none;\n",
              "    border-radius: 50%;\n",
              "    cursor: pointer;\n",
              "    display: none;\n",
              "    fill: var(--fill-color);\n",
              "    height: 32px;\n",
              "    padding: 0;\n",
              "    width: 32px;\n",
              "  }\n",
              "\n",
              "  .colab-df-quickchart:hover {\n",
              "    background-color: var(--hover-bg-color);\n",
              "    box-shadow: 0 1px 2px rgba(60, 64, 67, 0.3), 0 1px 3px 1px rgba(60, 64, 67, 0.15);\n",
              "    fill: var(--button-hover-fill-color);\n",
              "  }\n",
              "\n",
              "  .colab-df-quickchart-complete:disabled,\n",
              "  .colab-df-quickchart-complete:disabled:hover {\n",
              "    background-color: var(--disabled-bg-color);\n",
              "    fill: var(--disabled-fill-color);\n",
              "    box-shadow: none;\n",
              "  }\n",
              "\n",
              "  .colab-df-spinner {\n",
              "    border: 2px solid var(--fill-color);\n",
              "    border-color: transparent;\n",
              "    border-bottom-color: var(--fill-color);\n",
              "    animation:\n",
              "      spin 1s steps(1) infinite;\n",
              "  }\n",
              "\n",
              "  @keyframes spin {\n",
              "    0% {\n",
              "      border-color: transparent;\n",
              "      border-bottom-color: var(--fill-color);\n",
              "      border-left-color: var(--fill-color);\n",
              "    }\n",
              "    20% {\n",
              "      border-color: transparent;\n",
              "      border-left-color: var(--fill-color);\n",
              "      border-top-color: var(--fill-color);\n",
              "    }\n",
              "    30% {\n",
              "      border-color: transparent;\n",
              "      border-left-color: var(--fill-color);\n",
              "      border-top-color: var(--fill-color);\n",
              "      border-right-color: var(--fill-color);\n",
              "    }\n",
              "    40% {\n",
              "      border-color: transparent;\n",
              "      border-right-color: var(--fill-color);\n",
              "      border-top-color: var(--fill-color);\n",
              "    }\n",
              "    60% {\n",
              "      border-color: transparent;\n",
              "      border-right-color: var(--fill-color);\n",
              "    }\n",
              "    80% {\n",
              "      border-color: transparent;\n",
              "      border-right-color: var(--fill-color);\n",
              "      border-bottom-color: var(--fill-color);\n",
              "    }\n",
              "    90% {\n",
              "      border-color: transparent;\n",
              "      border-bottom-color: var(--fill-color);\n",
              "    }\n",
              "  }\n",
              "</style>\n",
              "\n",
              "  <script>\n",
              "    async function quickchart(key) {\n",
              "      const quickchartButtonEl =\n",
              "        document.querySelector('#' + key + ' button');\n",
              "      quickchartButtonEl.disabled = true;  // To prevent multiple clicks.\n",
              "      quickchartButtonEl.classList.add('colab-df-spinner');\n",
              "      try {\n",
              "        const charts = await google.colab.kernel.invokeFunction(\n",
              "            'suggestCharts', [key], {});\n",
              "      } catch (error) {\n",
              "        console.error('Error during call to suggestCharts:', error);\n",
              "      }\n",
              "      quickchartButtonEl.classList.remove('colab-df-spinner');\n",
              "      quickchartButtonEl.classList.add('colab-df-quickchart-complete');\n",
              "    }\n",
              "    (() => {\n",
              "      let quickchartButtonEl =\n",
              "        document.querySelector('#df-94a15c29-7bd0-44b9-bac1-fe429130a8d3 button');\n",
              "      quickchartButtonEl.style.display =\n",
              "        google.colab.kernel.accessAllowed ? 'block' : 'none';\n",
              "    })();\n",
              "  </script>\n",
              "</div>\n",
              "    </div>\n",
              "  </div>\n"
            ],
            "text/plain": [
              "                                              review\n",
              "0  Dan Brown needs no introduction. At some point...\n",
              "1  IN ONE OF HIS INTERVIEW'S DAN BROWN STATES THA...\n",
              "2  Though the books takes you on a rollercoaster ...\n",
              "3  One of the best books I have ever read. It is ...\n",
              "4  Let me start this review by saying that I'm a ...\n",
              "5                                         Good story\n",
              "6  There is something special about the works of ...\n",
              "7  The book is great and keeps you fixed till you...\n",
              "8  This is an updated review of Origin by Dan Bro...\n",
              "9  Mr Brown repeats his typical style of narratio..."
            ]
          },
          "execution_count": 22,
          "metadata": {},
          "output_type": "execute_result"
        }
      ],
      "source": [
        "fin"
      ]
    },
    {
      "cell_type": "code",
      "execution_count": null,
      "metadata": {
        "id": "lUJcB1nB-FnP"
      },
      "outputs": [],
      "source": [
        "# import csv\n",
        "\n",
        "# with open(\"/content/drive/MyDrive/honors/amozon_review_scrape_final.csv\", \"a\") as f:\n",
        "#     writer = csv.writer(f)\n",
        "#     for row in zip(fin):\n",
        "#         writer.writerow(row)"
      ]
    },
    {
      "cell_type": "code",
      "execution_count": null,
      "metadata": {
        "colab": {
          "base_uri": "https://localhost:8080/",
          "height": 423
        },
        "id": "k4rqT1Rx7HhP",
        "outputId": "6f8237f4-16a3-41ba-f4ba-338ac99ce5a9"
      },
      "outputs": [
        {
          "data": {
            "text/html": [
              "\n",
              "  <div id=\"df-2c246ff9-8c95-4556-830c-d91e4b5dee4a\" class=\"colab-df-container\">\n",
              "    <div>\n",
              "<style scoped>\n",
              "    .dataframe tbody tr th:only-of-type {\n",
              "        vertical-align: middle;\n",
              "    }\n",
              "\n",
              "    .dataframe tbody tr th {\n",
              "        vertical-align: top;\n",
              "    }\n",
              "\n",
              "    .dataframe thead th {\n",
              "        text-align: right;\n",
              "    }\n",
              "</style>\n",
              "<table border=\"1\" class=\"dataframe\">\n",
              "  <thead>\n",
              "    <tr style=\"text-align: right;\">\n",
              "      <th></th>\n",
              "      <th>Unnamed: 0</th>\n",
              "      <th>review</th>\n",
              "    </tr>\n",
              "  </thead>\n",
              "  <tbody>\n",
              "    <tr>\n",
              "      <th>0</th>\n",
              "      <td>0</td>\n",
              "      <td>Nan</td>\n",
              "    </tr>\n",
              "    <tr>\n",
              "      <th>1</th>\n",
              "      <td>1</td>\n",
              "      <td>The Sony X43 74K 43-inch TV is a stellar addit...</td>\n",
              "    </tr>\n",
              "    <tr>\n",
              "      <th>2</th>\n",
              "      <td>2</td>\n",
              "      <td>Nan</td>\n",
              "    </tr>\n",
              "    <tr>\n",
              "      <th>3</th>\n",
              "      <td>3</td>\n",
              "      <td>It has been more than a week i am using this T...</td>\n",
              "    </tr>\n",
              "    <tr>\n",
              "      <th>4</th>\n",
              "      <td>4</td>\n",
              "      <td>Nan</td>\n",
              "    </tr>\n",
              "    <tr>\n",
              "      <th>...</th>\n",
              "      <td>...</td>\n",
              "      <td>...</td>\n",
              "    </tr>\n",
              "    <tr>\n",
              "      <th>295</th>\n",
              "      <td>5</td>\n",
              "      <td>Good story</td>\n",
              "    </tr>\n",
              "    <tr>\n",
              "      <th>296</th>\n",
              "      <td>6</td>\n",
              "      <td>There is something special about the works of ...</td>\n",
              "    </tr>\n",
              "    <tr>\n",
              "      <th>297</th>\n",
              "      <td>7</td>\n",
              "      <td>The book is great and keeps you fixed till you...</td>\n",
              "    </tr>\n",
              "    <tr>\n",
              "      <th>298</th>\n",
              "      <td>8</td>\n",
              "      <td>This is an updated review of Origin by Dan Bro...</td>\n",
              "    </tr>\n",
              "    <tr>\n",
              "      <th>299</th>\n",
              "      <td>9</td>\n",
              "      <td>Mr Brown repeats his typical style of narratio...</td>\n",
              "    </tr>\n",
              "  </tbody>\n",
              "</table>\n",
              "<p>300 rows × 2 columns</p>\n",
              "</div>\n",
              "    <div class=\"colab-df-buttons\">\n",
              "\n",
              "  <div class=\"colab-df-container\">\n",
              "    <button class=\"colab-df-convert\" onclick=\"convertToInteractive('df-2c246ff9-8c95-4556-830c-d91e4b5dee4a')\"\n",
              "            title=\"Convert this dataframe to an interactive table.\"\n",
              "            style=\"display:none;\">\n",
              "\n",
              "  <svg xmlns=\"http://www.w3.org/2000/svg\" height=\"24px\" viewBox=\"0 -960 960 960\">\n",
              "    <path d=\"M120-120v-720h720v720H120Zm60-500h600v-160H180v160Zm220 220h160v-160H400v160Zm0 220h160v-160H400v160ZM180-400h160v-160H180v160Zm440 0h160v-160H620v160ZM180-180h160v-160H180v160Zm440 0h160v-160H620v160Z\"/>\n",
              "  </svg>\n",
              "    </button>\n",
              "\n",
              "  <style>\n",
              "    .colab-df-container {\n",
              "      display:flex;\n",
              "      gap: 12px;\n",
              "    }\n",
              "\n",
              "    .colab-df-convert {\n",
              "      background-color: #E8F0FE;\n",
              "      border: none;\n",
              "      border-radius: 50%;\n",
              "      cursor: pointer;\n",
              "      display: none;\n",
              "      fill: #1967D2;\n",
              "      height: 32px;\n",
              "      padding: 0 0 0 0;\n",
              "      width: 32px;\n",
              "    }\n",
              "\n",
              "    .colab-df-convert:hover {\n",
              "      background-color: #E2EBFA;\n",
              "      box-shadow: 0px 1px 2px rgba(60, 64, 67, 0.3), 0px 1px 3px 1px rgba(60, 64, 67, 0.15);\n",
              "      fill: #174EA6;\n",
              "    }\n",
              "\n",
              "    .colab-df-buttons div {\n",
              "      margin-bottom: 4px;\n",
              "    }\n",
              "\n",
              "    [theme=dark] .colab-df-convert {\n",
              "      background-color: #3B4455;\n",
              "      fill: #D2E3FC;\n",
              "    }\n",
              "\n",
              "    [theme=dark] .colab-df-convert:hover {\n",
              "      background-color: #434B5C;\n",
              "      box-shadow: 0px 1px 3px 1px rgba(0, 0, 0, 0.15);\n",
              "      filter: drop-shadow(0px 1px 2px rgba(0, 0, 0, 0.3));\n",
              "      fill: #FFFFFF;\n",
              "    }\n",
              "  </style>\n",
              "\n",
              "    <script>\n",
              "      const buttonEl =\n",
              "        document.querySelector('#df-2c246ff9-8c95-4556-830c-d91e4b5dee4a button.colab-df-convert');\n",
              "      buttonEl.style.display =\n",
              "        google.colab.kernel.accessAllowed ? 'block' : 'none';\n",
              "\n",
              "      async function convertToInteractive(key) {\n",
              "        const element = document.querySelector('#df-2c246ff9-8c95-4556-830c-d91e4b5dee4a');\n",
              "        const dataTable =\n",
              "          await google.colab.kernel.invokeFunction('convertToInteractive',\n",
              "                                                    [key], {});\n",
              "        if (!dataTable) return;\n",
              "\n",
              "        const docLinkHtml = 'Like what you see? Visit the ' +\n",
              "          '<a target=\"_blank\" href=https://colab.research.google.com/notebooks/data_table.ipynb>data table notebook</a>'\n",
              "          + ' to learn more about interactive tables.';\n",
              "        element.innerHTML = '';\n",
              "        dataTable['output_type'] = 'display_data';\n",
              "        await google.colab.output.renderOutput(dataTable, element);\n",
              "        const docLink = document.createElement('div');\n",
              "        docLink.innerHTML = docLinkHtml;\n",
              "        element.appendChild(docLink);\n",
              "      }\n",
              "    </script>\n",
              "  </div>\n",
              "\n",
              "\n",
              "<div id=\"df-94537da4-a63a-415d-ac42-6aeba1fb3605\">\n",
              "  <button class=\"colab-df-quickchart\" onclick=\"quickchart('df-94537da4-a63a-415d-ac42-6aeba1fb3605')\"\n",
              "            title=\"Suggest charts.\"\n",
              "            style=\"display:none;\">\n",
              "\n",
              "<svg xmlns=\"http://www.w3.org/2000/svg\" height=\"24px\"viewBox=\"0 0 24 24\"\n",
              "     width=\"24px\">\n",
              "    <g>\n",
              "        <path d=\"M19 3H5c-1.1 0-2 .9-2 2v14c0 1.1.9 2 2 2h14c1.1 0 2-.9 2-2V5c0-1.1-.9-2-2-2zM9 17H7v-7h2v7zm4 0h-2V7h2v10zm4 0h-2v-4h2v4z\"/>\n",
              "    </g>\n",
              "</svg>\n",
              "  </button>\n",
              "\n",
              "<style>\n",
              "  .colab-df-quickchart {\n",
              "      --bg-color: #E8F0FE;\n",
              "      --fill-color: #1967D2;\n",
              "      --hover-bg-color: #E2EBFA;\n",
              "      --hover-fill-color: #174EA6;\n",
              "      --disabled-fill-color: #AAA;\n",
              "      --disabled-bg-color: #DDD;\n",
              "  }\n",
              "\n",
              "  [theme=dark] .colab-df-quickchart {\n",
              "      --bg-color: #3B4455;\n",
              "      --fill-color: #D2E3FC;\n",
              "      --hover-bg-color: #434B5C;\n",
              "      --hover-fill-color: #FFFFFF;\n",
              "      --disabled-bg-color: #3B4455;\n",
              "      --disabled-fill-color: #666;\n",
              "  }\n",
              "\n",
              "  .colab-df-quickchart {\n",
              "    background-color: var(--bg-color);\n",
              "    border: none;\n",
              "    border-radius: 50%;\n",
              "    cursor: pointer;\n",
              "    display: none;\n",
              "    fill: var(--fill-color);\n",
              "    height: 32px;\n",
              "    padding: 0;\n",
              "    width: 32px;\n",
              "  }\n",
              "\n",
              "  .colab-df-quickchart:hover {\n",
              "    background-color: var(--hover-bg-color);\n",
              "    box-shadow: 0 1px 2px rgba(60, 64, 67, 0.3), 0 1px 3px 1px rgba(60, 64, 67, 0.15);\n",
              "    fill: var(--button-hover-fill-color);\n",
              "  }\n",
              "\n",
              "  .colab-df-quickchart-complete:disabled,\n",
              "  .colab-df-quickchart-complete:disabled:hover {\n",
              "    background-color: var(--disabled-bg-color);\n",
              "    fill: var(--disabled-fill-color);\n",
              "    box-shadow: none;\n",
              "  }\n",
              "\n",
              "  .colab-df-spinner {\n",
              "    border: 2px solid var(--fill-color);\n",
              "    border-color: transparent;\n",
              "    border-bottom-color: var(--fill-color);\n",
              "    animation:\n",
              "      spin 1s steps(1) infinite;\n",
              "  }\n",
              "\n",
              "  @keyframes spin {\n",
              "    0% {\n",
              "      border-color: transparent;\n",
              "      border-bottom-color: var(--fill-color);\n",
              "      border-left-color: var(--fill-color);\n",
              "    }\n",
              "    20% {\n",
              "      border-color: transparent;\n",
              "      border-left-color: var(--fill-color);\n",
              "      border-top-color: var(--fill-color);\n",
              "    }\n",
              "    30% {\n",
              "      border-color: transparent;\n",
              "      border-left-color: var(--fill-color);\n",
              "      border-top-color: var(--fill-color);\n",
              "      border-right-color: var(--fill-color);\n",
              "    }\n",
              "    40% {\n",
              "      border-color: transparent;\n",
              "      border-right-color: var(--fill-color);\n",
              "      border-top-color: var(--fill-color);\n",
              "    }\n",
              "    60% {\n",
              "      border-color: transparent;\n",
              "      border-right-color: var(--fill-color);\n",
              "    }\n",
              "    80% {\n",
              "      border-color: transparent;\n",
              "      border-right-color: var(--fill-color);\n",
              "      border-bottom-color: var(--fill-color);\n",
              "    }\n",
              "    90% {\n",
              "      border-color: transparent;\n",
              "      border-bottom-color: var(--fill-color);\n",
              "    }\n",
              "  }\n",
              "</style>\n",
              "\n",
              "  <script>\n",
              "    async function quickchart(key) {\n",
              "      const quickchartButtonEl =\n",
              "        document.querySelector('#' + key + ' button');\n",
              "      quickchartButtonEl.disabled = true;  // To prevent multiple clicks.\n",
              "      quickchartButtonEl.classList.add('colab-df-spinner');\n",
              "      try {\n",
              "        const charts = await google.colab.kernel.invokeFunction(\n",
              "            'suggestCharts', [key], {});\n",
              "      } catch (error) {\n",
              "        console.error('Error during call to suggestCharts:', error);\n",
              "      }\n",
              "      quickchartButtonEl.classList.remove('colab-df-spinner');\n",
              "      quickchartButtonEl.classList.add('colab-df-quickchart-complete');\n",
              "    }\n",
              "    (() => {\n",
              "      let quickchartButtonEl =\n",
              "        document.querySelector('#df-94537da4-a63a-415d-ac42-6aeba1fb3605 button');\n",
              "      quickchartButtonEl.style.display =\n",
              "        google.colab.kernel.accessAllowed ? 'block' : 'none';\n",
              "    })();\n",
              "  </script>\n",
              "</div>\n",
              "    </div>\n",
              "  </div>\n"
            ],
            "text/plain": [
              "    Unnamed: 0                                             review\n",
              "0            0                                                Nan\n",
              "1            1  The Sony X43 74K 43-inch TV is a stellar addit...\n",
              "2            2                                                Nan\n",
              "3            3  It has been more than a week i am using this T...\n",
              "4            4                                                Nan\n",
              "..         ...                                                ...\n",
              "295          5                                         Good story\n",
              "296          6  There is something special about the works of ...\n",
              "297          7  The book is great and keeps you fixed till you...\n",
              "298          8  This is an updated review of Origin by Dan Bro...\n",
              "299          9  Mr Brown repeats his typical style of narratio...\n",
              "\n",
              "[300 rows x 2 columns]"
            ]
          },
          "execution_count": 24,
          "metadata": {},
          "output_type": "execute_result"
        }
      ],
      "source": [
        "import pandas as pd\n",
        "data=pd.read_csv(\"/content/drive/MyDrive/honors/amozon_review_scrape_final.csv\")\n",
        "data"
      ]
    },
    {
      "cell_type": "code",
      "execution_count": null,
      "metadata": {
        "colab": {
          "base_uri": "https://localhost:8080/"
        },
        "id": "6e3358MBUSvA",
        "outputId": "a102d401-4e8f-4391-b386-3a889bffca62"
      },
      "outputs": [
        {
          "data": {
            "text/plain": [
              "300"
            ]
          },
          "execution_count": 25,
          "metadata": {},
          "output_type": "execute_result"
        }
      ],
      "source": [
        "len(data)"
      ]
    },
    {
      "cell_type": "code",
      "execution_count": null,
      "metadata": {
        "id": "IRAVATJsAjPs"
      },
      "outputs": [],
      "source": []
    }
  ],
  "metadata": {
    "colab": {
      "provenance": [],
      "mount_file_id": "1-sH3-NI8kDaeQRo5D0x7mk4Q3veStThl",
      "authorship_tag": "ABX9TyMLFAlrynDE53nwrK+FkeuI",
      "include_colab_link": true
    },
    "kernelspec": {
      "display_name": "Python 3",
      "name": "python3"
    },
    "language_info": {
      "name": "python"
    }
  },
  "nbformat": 4,
  "nbformat_minor": 0
}